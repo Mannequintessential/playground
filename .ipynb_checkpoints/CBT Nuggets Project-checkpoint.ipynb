{
 "cells": [
  {
   "cell_type": "markdown",
   "metadata": {},
   "source": [
    "# CBT Nuggets Project\n",
    "This Jupyter Notebook is where work is done to import the Slack data export and find the answers to the given questions: \n",
    "\n",
    "- What channel had the most posts per week/month? (filter out non manual entries, do both peak week/month from total dataset and average for each channel)\n",
    "- What's the average number of posts per user in a week/month? \n",
    "- Which user had the highest number of posts in a single week (and how many was it)?\n",
    "- Which user had the highest number of posts in a single month (and how many was it)?\n",
    "- Which user had the highest number of posts the most recent full month in the 'general-discussion' channel (and how many was it)?"
   ]
  },
  {
   "cell_type": "code",
   "execution_count": 1,
   "metadata": {},
   "outputs": [],
   "source": [
    "# import necessary libraries\n",
    "import pandas as pd\n",
    "import numpy as np\n",
    "import matplotlib.pyplot as plt\n",
    "import seaborn as sns\n",
    "from os import listdir\n",
    "from os.path import isfile, isdir, join\n"
   ]
  },
  {
   "cell_type": "code",
   "execution_count": 2,
   "metadata": {},
   "outputs": [],
   "source": [
    "# the directory is the unzipped slack data export\n",
    "directory = 'CBT Learners Slack export Mar 21 2018/'\n",
    "# the subdirectories are all the folders referencing each channel in the Slack group\n",
    "subdirectories = [folder for folder in listdir(directory) if isdir(join(directory, folder))]"
   ]
  },
  {
   "cell_type": "code",
   "execution_count": null,
   "metadata": {
    "scrolled": false
   },
   "outputs": [],
   "source": [
    "# we will pull in all the data from each channel and concatenate it into one dataframe. We will also add a 'channel'\n",
    "# column to preserve where each message came from. \n",
    "\n",
    "# we will first initialize df as an empty dataframe\n",
    "df = pd.DataFrame(columns = ['channel'])\n",
    "# next we will do a for loop to import all the files from each channel and append to df\n",
    "for subdir in subdirectories:\n",
    "    mypath = directory + subdir\n",
    "    onlyfiles = [f for f in listdir(mypath) if isfile(join(mypath, f))]\n",
    "    value = pd.concat([pd.read_json(mypath + '/' + file) for file in onlyfiles], ignore_index=True)\n",
    "    value['channel'] = subdir\n",
    "    df = df.append(value)\n",
    "    "
   ]
  },
  {
   "cell_type": "code",
   "execution_count": null,
   "metadata": {},
   "outputs": [],
   "source": [
    "# to answer the questions, we don't need the entire dataset. We will keep only the relevant columns\n",
    "df = df[['channel','subtype','ts','user']]\n",
    "df.isnull().sum()"
   ]
  },
  {
   "cell_type": "code",
   "execution_count": null,
   "metadata": {},
   "outputs": [],
   "source": [
    "# we see that subtype and user have some null values. We need to fill these spaces\n",
    "\n",
    "# for subtype, the null values are messages that were manually entered by the user. these are the only rows we want\n",
    "df = df[df['subtype'].isnull()]\n",
    "# we will drop 'subtype' as it is irrelevant now\n",
    "df = df.drop('subtype', axis=1)\n",
    "\n",
    "# check to make sure the dataset is now clean\n",
    "df.isnull().sum() "
   ]
  },
  {
   "cell_type": "code",
   "execution_count": null,
   "metadata": {},
   "outputs": [],
   "source": [
    "## Question 1: What channel had the most posts per week/month? (filter out non manual entries, do both peak week/month from total dataset and average for each channel)\n",
    "# to answer the first question, we will add columns for 'week_number' and 'month'\n",
    "\n",
    "# convert ts from seconds since epoch to a pandas datetime format\n",
    "df['ts'] = pd.to_datetime(df['ts'],unit='s')\n",
    "# week_number is the week number for a given year. This prevents week one from multiple years being summed. It is \n",
    "# in the format 'YYYY-w##' \n",
    "df['week_number'] = df['ts'].dt.strftime('%Y-w%W')\n",
    "# month is the month number for a given year. This prevents month one from multiple years being summed. It is \n",
    "# in the format 'YYYY-m##' \n",
    "df['month'] = df['ts'].dt.strftime('%Y-m%m')\n",
    "\n",
    "# calculate and print results\n",
    "peak_week = df.groupby(['channel','week_number'])['ts'].count().idxmax()\n",
    "print('the channel with the mosts weekly posts was {} on week {}'.format(peak_week[0],peak_week[1]))\n",
    "peak_month = df.groupby(['channel','month'])['ts'].count().idxmax()\n",
    "print('the channel with the mosts monthly posts was {} on month {}'.format(peak_month[0],peak_month[1]))"
   ]
  },
  {
   "cell_type": "code",
   "execution_count": null,
   "metadata": {
    "scrolled": true
   },
   "outputs": [],
   "source": [
    "# plt.figure(figsize=(20,5))\n",
    "# sns.countplot(df['week_number'].sort_values())\n",
    "# plt.title('Histogram of posts per week')\n",
    "# plt.xticks(rotation=90)\n",
    "# plt.show()"
   ]
  },
  {
   "cell_type": "code",
   "execution_count": null,
   "metadata": {},
   "outputs": [],
   "source": [
    "# plt.figure(figsize=(20,5))\n",
    "# sns.countplot(df['month'].sort_values())\n",
    "# plt.title('Histogram of posts per month')\n",
    "# plt.xticks(rotation=90)\n",
    "# plt.show()"
   ]
  },
  {
   "cell_type": "code",
   "execution_count": null,
   "metadata": {},
   "outputs": [],
   "source": [
    "# question 1 part 2 is calculating the average posts/(week and month) for each channel. We will calculate that here\n",
    "\n",
    "# calculate the total posts for each channel\n",
    "channels_total_posts = df.groupby(['channel'])['ts'].count()\n",
    "# calculate the start date of each channel\n",
    "channels_start = df.groupby(['channel'])['ts'].min()\n",
    "# pull the last timestamp, this is the \"present\"\n",
    "channel_end = df['ts'].max()\n",
    "# calculate each channel's age in weeks\n",
    "channels_age_weeks = (channel_end - channels_start)/ np.timedelta64(1, 'W')\n",
    "# calculate each channel's age in months\n",
    "channels_age_months = (channel_end - channels_start)/ np.timedelta64(1, 'M')\n",
    "\n",
    "# calculate and print the average posts per week for all channels\n",
    "print('the average posts per week for each {}'.format(channels_total_posts/channels_age_weeks))\n",
    "# calculate and print the average posts per month for all channels\n",
    "print('\\nthe average posts per month for each {}'.format(channels_total_posts/channels_age_months))\n"
   ]
  },
  {
   "cell_type": "code",
   "execution_count": null,
   "metadata": {
    "scrolled": true
   },
   "outputs": [],
   "source": [
    "# What's the average number of posts per user in a week/month?\n",
    "# to answer the second question, we need to first measure the age of a user's account. Then divide the total\n",
    "# number of posts by that user by its age (in weeks or months as unit). \n",
    "\n",
    "# calculate the total posts for each user\n",
    "users_total_posts = df.groupby(['user'])['ts'].count()\n",
    "# calculate the start date of each user\n",
    "users_start = df.groupby(['user'])['ts'].min()\n",
    "# pull the last timestamp, this is the \"present\"\n",
    "user_end = df['ts'].max()\n",
    "# calculate each user's age in weeks\n",
    "users_age_weeks = (user_end - users_start)/ np.timedelta64(1, 'W')\n",
    "# calculate each user's age in months\n",
    "users_age_months = (user_end - users_start)/ np.timedelta64(1, 'M')\n",
    "\n",
    "# calculate and print the average posts per week for all users\n",
    "print('the average posts per week for each {}'.format(users_total_posts/users_age_weeks))\n",
    "# calculate and print the average posts per month for all users\n",
    "print('\\nthe average posts per month for each {}'.format(users_total_posts/users_age_months))"
   ]
  },
  {
   "cell_type": "code",
   "execution_count": null,
   "metadata": {},
   "outputs": [],
   "source": [
    "## Question 3: What user had the most posts total in a week?\n",
    "\n",
    "# we will calculate which user had the most weekly posts\n",
    "users_weekly_posts_maxidx = df.groupby(['user','week_number'])['ts'].count().idxmax()\n",
    "users_weekly_posts_max = df.groupby(['user','week_number'])['ts'].count().max()\n",
    "print('user {} had the most weekly posts with {} posts'.format(users_weekly_posts_maxidx[0], users_weekly_posts_max))"
   ]
  },
  {
   "cell_type": "code",
   "execution_count": null,
   "metadata": {},
   "outputs": [],
   "source": [
    "## Question 4: What user had the most posts total in a month?\n",
    "\n",
    "# we will calculate which user had the most monthly posts\n",
    "users_monthly_posts_maxidx = df.groupby(['user','month'])['ts'].count().idxmax()\n",
    "users_monthly_posts_max = df.groupby(['user','month'])['ts'].count().max()\n",
    "print('user {} had the most monthly posts with {} posts'.format(users_monthly_posts_maxidx[0], users_monthly_posts_max))"
   ]
  },
  {
   "cell_type": "code",
   "execution_count": null,
   "metadata": {},
   "outputs": [],
   "source": [
    "## Question 5: Which user had the highest number of posts the most recent full month in the 'general-discussion' \n",
    "# channel (and how many was it)?\n",
    "\n",
    "# we queried earlier that the last timestamp is on 3/21/2018. That means we want to investigate the month of \n",
    "# February for this problem\n",
    "gen_disc_max_user = df[(df['channel']=='general-discussion') & (df['month']=='2018-m02')].groupby(['user'])['ts'].count().idxmax()\n",
    "gen_disc_max_posts = df[(df['channel']=='general-discussion') & (df['month']=='2018-m02')].groupby(['user'])['ts'].count().max()\n",
    "print('user {} had the most posts in Feb-2018 with {} posts'.format(gen_disc_max_user, gen_disc_max_posts))"
   ]
  },
  {
   "cell_type": "code",
   "execution_count": null,
   "metadata": {},
   "outputs": [],
   "source": []
  }
 ],
 "metadata": {
  "kernelspec": {
   "display_name": "Python 3",
   "language": "python",
   "name": "python3"
  },
  "language_info": {
   "codemirror_mode": {
    "name": "ipython",
    "version": 3
   },
   "file_extension": ".py",
   "mimetype": "text/x-python",
   "name": "python",
   "nbconvert_exporter": "python",
   "pygments_lexer": "ipython3",
   "version": "3.6.4"
  }
 },
 "nbformat": 4,
 "nbformat_minor": 2
}
