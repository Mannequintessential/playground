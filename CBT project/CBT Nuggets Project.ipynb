{
 "cells": [
  {
   "cell_type": "markdown",
   "metadata": {},
   "source": [
    "# CBT Nuggets Project\n",
    "This Jupyter Notebook is where work is done to import the Slack data export and find the answers to the given questions: \n",
    "\n",
    "- What channel had the most posts per week/month? (filter out non manual entries, do both peak week/month from total dataset and average for each channel)\n",
    "- What's the average number of posts per user in a week/month? \n",
    "- Which user had the highest number of posts in a single week (and how many was it)?\n",
    "- Which user had the highest number of posts in a single month (and how many was it)?\n",
    "- Which user had the highest number of posts the most recent full month in the 'general-discussion' channel (and how many was it)?"
   ]
  },
  {
   "cell_type": "code",
   "execution_count": 1,
   "metadata": {},
   "outputs": [],
   "source": [
    "# import necessary libraries\n",
    "import pandas as pd\n",
    "import numpy as np\n",
    "# import matplotlib.pyplot as plt\n",
    "# import seaborn as sns\n",
    "from os import listdir\n",
    "from os.path import isfile, isdir, join\n"
   ]
  },
  {
   "cell_type": "code",
   "execution_count": 2,
   "metadata": {},
   "outputs": [],
   "source": [
    "# the directory is the unzipped slack data export\n",
    "directory = 'CBT Learners Slack export Mar 21 2018/'\n",
    "# the subdirectories are all the folders referencing each channel in the Slack group\n",
    "subdirectories = [folder for folder in listdir(directory) if isdir(join(directory, folder))]"
   ]
  },
  {
   "cell_type": "code",
   "execution_count": 3,
   "metadata": {
    "scrolled": false
   },
   "outputs": [],
   "source": [
    "# we will pull in all the data from each channel and concatenate it into one dataframe. We will also add a 'channel'\n",
    "# column to preserve where each message came from. \n",
    "\n",
    "# we will first initialize df as an empty dataframe\n",
    "df = pd.DataFrame(columns = ['channel'])\n",
    "# next we will do a for loop to import all the files from each channel and append to df\n",
    "for subdir in subdirectories:\n",
    "    mypath = directory + subdir\n",
    "    onlyfiles = [f for f in listdir(mypath) if isfile(join(mypath, f))]\n",
    "    value = pd.concat([pd.read_json(mypath + '/' + file) for file in onlyfiles], ignore_index=True)\n",
    "    value['channel'] = subdir\n",
    "    df = df.append(value)\n",
    "    "
   ]
  },
  {
   "cell_type": "code",
   "execution_count": 4,
   "metadata": {},
   "outputs": [
    {
     "data": {
      "text/plain": [
       "channel         0\n",
       "subtype    132919\n",
       "ts              0\n",
       "user         1310\n",
       "dtype: int64"
      ]
     },
     "execution_count": 4,
     "metadata": {},
     "output_type": "execute_result"
    }
   ],
   "source": [
    "# to answer the questions, we don't need the entire dataset. We will keep only the relevant columns\n",
    "df = df[['channel','subtype','ts','user']]\n",
    "df.isnull().sum()"
   ]
  },
  {
   "cell_type": "code",
   "execution_count": 5,
   "metadata": {},
   "outputs": [
    {
     "data": {
      "text/plain": [
       "channel    0\n",
       "ts         0\n",
       "user       0\n",
       "dtype: int64"
      ]
     },
     "execution_count": 5,
     "metadata": {},
     "output_type": "execute_result"
    }
   ],
   "source": [
    "# we see that subtype and user have some null values. We need to fill these spaces\n",
    "\n",
    "# for subtype, the null values are messages that were manually entered by the user. these are the only rows we want\n",
    "df = df[df['subtype'].isnull()]\n",
    "# we will drop 'subtype' as it is irrelevant now\n",
    "df = df.drop('subtype', axis=1)\n",
    "\n",
    "# check to make sure the dataset is now clean\n",
    "df.isnull().sum() "
   ]
  },
  {
   "cell_type": "code",
   "execution_count": 6,
   "metadata": {},
   "outputs": [
    {
     "name": "stdout",
     "output_type": "stream",
     "text": [
      "the channel with the mosts weekly posts was cisco-learners on week 2018-w05\n",
      "the channel with the mosts monthly posts was cisco-learners on month 2018-m01\n"
     ]
    }
   ],
   "source": [
    "## Question 1: What channel had the most posts per week/month? (filter out non manual entries, do both peak week/month from total dataset and average for each channel)\n",
    "# to answer the first question, we will add columns for 'week_number' and 'month'\n",
    "\n",
    "# convert ts from seconds since epoch to a pandas datetime format\n",
    "df['ts'] = pd.to_datetime(df['ts'],unit='s')\n",
    "# week_number is the week number for a given year. This prevents week one from multiple years being summed. It is \n",
    "# in the format 'YYYY-w##' \n",
    "df['week_number'] = df['ts'].dt.strftime('%Y-w%W')\n",
    "# month is the month number for a given year. This prevents month one from multiple years being summed. It is \n",
    "# in the format 'YYYY-m##' \n",
    "df['month'] = df['ts'].dt.strftime('%Y-m%m')\n",
    "\n",
    "# calculate and print results\n",
    "peak_week = df.groupby(['channel','week_number'])['ts'].count().idxmax()\n",
    "print('the channel with the mosts weekly posts was {} on week {}'.format(peak_week[0],peak_week[1]))\n",
    "peak_month = df.groupby(['channel','month'])['ts'].count().idxmax()\n",
    "print('the channel with the mosts monthly posts was {} on month {}'.format(peak_month[0],peak_month[1]))"
   ]
  },
  {
   "cell_type": "code",
   "execution_count": 7,
   "metadata": {
    "scrolled": true
   },
   "outputs": [],
   "source": [
    "# plt.figure(figsize=(20,5))\n",
    "# sns.countplot(df['week_number'].sort_values())\n",
    "# plt.title('Histogram of posts per week')\n",
    "# plt.xticks(rotation=90)\n",
    "# plt.show()"
   ]
  },
  {
   "cell_type": "code",
   "execution_count": 8,
   "metadata": {},
   "outputs": [],
   "source": [
    "# plt.figure(figsize=(20,5))\n",
    "# sns.countplot(df['month'].sort_values())\n",
    "# plt.title('Histogram of posts per month')\n",
    "# plt.xticks(rotation=90)\n",
    "# plt.show()"
   ]
  },
  {
   "cell_type": "code",
   "execution_count": 9,
   "metadata": {},
   "outputs": [
    {
     "name": "stdout",
     "output_type": "stream",
     "text": [
      "the average posts per week for each channel\n",
      "adc-loadbalancing         1.247278\n",
      "aska-mentor              10.584902\n",
      "bulletin-board           40.172578\n",
      "cisco-learners          895.713611\n",
      "cloud-learners            3.249679\n",
      "comptia-learners         11.513307\n",
      "devops-learners           2.006461\n",
      "general-discussion      110.938746\n",
      "it-job-career            14.532846\n",
      "juniper-learners          2.484534\n",
      "linux-learners           16.755240\n",
      "microsoft-learners       60.191883\n",
      "programmer-developer      1.048129\n",
      "project-management        0.438852\n",
      "security-learners        23.899480\n",
      "vmware-learners          20.669603\n",
      "watercooler              16.695577\n",
      "Name: ts, dtype: float64\n",
      "\n",
      "the average posts per month for each channel\n",
      "adc-loadbalancing          5.423321\n",
      "aska-mentor               46.024475\n",
      "bulletin-board           174.675390\n",
      "cisco-learners          3894.674746\n",
      "cloud-learners            14.130010\n",
      "comptia-learners          50.061297\n",
      "devops-learners            8.724344\n",
      "general-discussion       482.375534\n",
      "it-job-career             63.190630\n",
      "juniper-learners          10.803062\n",
      "linux-learners            72.853877\n",
      "microsoft-learners       261.721833\n",
      "programmer-developer       4.557398\n",
      "project-management         1.908185\n",
      "security-learners        103.917928\n",
      "vmware-learners           89.874016\n",
      "watercooler               72.594455\n",
      "Name: ts, dtype: float64\n"
     ]
    }
   ],
   "source": [
    "# question 1 part 2 is calculating the average posts/(week and month) for each channel. We will calculate that here\n",
    "\n",
    "# calculate the total posts for each channel\n",
    "channels_total_posts = df.groupby(['channel'])['ts'].count()\n",
    "# calculate the start date of each channel\n",
    "channels_start = df.groupby(['channel'])['ts'].min()\n",
    "# pull the last timestamp, this is the \"present\"\n",
    "channel_end = df['ts'].max()\n",
    "# calculate each channel's age in weeks\n",
    "channels_age_weeks = (channel_end - channels_start)/ np.timedelta64(1, 'W')\n",
    "# calculate each channel's age in months\n",
    "channels_age_months = (channel_end - channels_start)/ np.timedelta64(1, 'M')\n",
    "\n",
    "# calculate and print the average posts per week for all channels\n",
    "print('the average posts per week for each {}'.format(channels_total_posts/channels_age_weeks))\n",
    "# calculate and print the average posts per month for all channels\n",
    "print('\\nthe average posts per month for each {}'.format(channels_total_posts/channels_age_months))\n"
   ]
  },
  {
   "cell_type": "code",
   "execution_count": 10,
   "metadata": {
    "scrolled": true
   },
   "outputs": [
    {
     "name": "stdout",
     "output_type": "stream",
     "text": [
      "the average posts per week for each user\n",
      "U0M71ARGB      0.064168\n",
      "U0M8HFPFC      0.112206\n",
      "U0ME8GFBL      0.622474\n",
      "U0MLCCNF3      9.230802\n",
      "U0MLHQT16      0.330009\n",
      "U0MLUMMK6      0.157056\n",
      "U0MPXV3HU    111.331838\n",
      "U0MQBPDLJ     18.113105\n",
      "U0N724M7A     41.880782\n",
      "U0N7Q55MK      0.055210\n",
      "U0N8F1AJZ      0.009202\n",
      "U0N8H0HLJ      0.064412\n",
      "U0NEUV6Q3      0.193933\n",
      "U0NF565CZ      0.010610\n",
      "U0NFVEULX      0.267852\n",
      "U0NFZ8Q67      7.297337\n",
      "U0NGADUD6      0.323298\n",
      "U0P4A451B      0.177628\n",
      "U0P7XLUM7      0.111409\n",
      "U0PU2P32S      0.243023\n",
      "U0PUAD9PX      0.129057\n",
      "U0Q4UH05B      3.298829\n",
      "U0QCM9SEA      2.053216\n",
      "U0QGYFPHA      0.019461\n",
      "U0QMU4LAG      0.103380\n",
      "U0R8BP4CC      0.650111\n",
      "U0RFR7VS4      0.018912\n",
      "U0S10KYNP      0.038369\n",
      "U0S1R38CE     26.714333\n",
      "U0S26SV2B      0.011078\n",
      "                ...    \n",
      "U9FUXMWA1    256.687441\n",
      "U9G9WE9QE      1.395430\n",
      "U9GBBS1V1     48.974584\n",
      "U9GER9PRS      2.967928\n",
      "U9GFUP6PQ      1.284878\n",
      "U9GUTDT1Q      8.466631\n",
      "U9H57JH7A      0.370895\n",
      "U9H7S0HT6      8.105193\n",
      "U9J6SKDA9     50.495229\n",
      "U9JU5TX6Z      0.446479\n",
      "U9KHBBTC6      0.547885\n",
      "U9KLLUG4D      0.944379\n",
      "U9KNW019C      1.331254\n",
      "U9L5SU708      1.624147\n",
      "U9L6N2091      0.588673\n",
      "U9L9D8U82      0.550209\n",
      "U9LQ4BY1E      7.786289\n",
      "U9MHNUQBZ      1.076563\n",
      "U9NK5KJ9X      4.901929\n",
      "U9NLH1AGN      2.544071\n",
      "U9NMJBNH0      1.602497\n",
      "U9NPBAU5D      6.634681\n",
      "U9P45L7B5      3.530009\n",
      "U9PAJLHE1      0.881679\n",
      "U9PAPT1KP    131.487469\n",
      "U9QN3EN48      2.882587\n",
      "U9QNVVDRP      6.679072\n",
      "U9RPVSSMT      3.581071\n",
      "U9RV61ADV      6.350780\n",
      "U9T81JGUS     19.055120\n",
      "Name: ts, Length: 1466, dtype: float64\n",
      "\n",
      "the average posts per month for each user\n",
      "U0M71ARGB       0.279010\n",
      "U0M8HFPFC       0.487887\n",
      "U0ME8GFBL       2.706594\n",
      "U0MLCCNF3      40.136679\n",
      "U0MLHQT16       1.434920\n",
      "U0MLUMMK6       0.682897\n",
      "U0MPXV3HU     484.084750\n",
      "U0MQBPDLJ      78.758044\n",
      "U0N724M7A     182.102877\n",
      "U0N7Q55MK       0.240060\n",
      "U0N8F1AJZ       0.040011\n",
      "U0N8H0HLJ       0.280072\n",
      "U0NEUV6Q3       0.843246\n",
      "U0NF565CZ       0.046134\n",
      "U0NFVEULX       1.164656\n",
      "U0NFZ8Q67      31.729734\n",
      "U0NGADUD6       1.405742\n",
      "U0P4A451B       0.772347\n",
      "U0P7XLUM7       0.484422\n",
      "U0PU2P32S       1.056693\n",
      "U0PUAD9PX       0.561158\n",
      "U0Q4UH05B      14.343723\n",
      "U0QCM9SEA       8.927640\n",
      "U0QGYFPHA       0.084620\n",
      "U0QMU4LAG       0.449509\n",
      "U0R8BP4CC       2.826763\n",
      "U0RFR7VS4       0.082232\n",
      "U0S10KYNP       0.166835\n",
      "U0S1R38CE     116.157258\n",
      "U0S26SV2B       0.048167\n",
      "                ...     \n",
      "U9FUXMWA1    1116.109078\n",
      "U9G9WE9QE       6.067505\n",
      "U9GBBS1V1     212.947612\n",
      "U9GER9PRS      12.904924\n",
      "U9GFUP6PQ       5.586812\n",
      "U9GUTDT1Q      36.813968\n",
      "U9H57JH7A       1.612700\n",
      "U9H7S0HT6      35.242394\n",
      "U9J6SKDA9     219.559567\n",
      "U9JU5TX6Z       1.941345\n",
      "U9KHBBTC6       2.382271\n",
      "U9KLLUG4D       4.106277\n",
      "U9KNW019C       5.788461\n",
      "U9L5SU708       7.061996\n",
      "U9L6N2091       2.559625\n",
      "U9L9D8U82       2.392379\n",
      "U9LQ4BY1E      33.855758\n",
      "U9MHNUQBZ       4.681029\n",
      "U9NK5KJ9X      21.314200\n",
      "U9NLH1AGN      11.061937\n",
      "U9NMJBNH0       6.967857\n",
      "U9NPBAU5D      28.848421\n",
      "U9P45L7B5      15.348921\n",
      "U9PAJLHE1       3.833650\n",
      "U9PAPT1KP     571.723952\n",
      "U9QN3EN48      12.533851\n",
      "U9QNVVDRP      29.041440\n",
      "U9RPVSSMT      15.570946\n",
      "U9RV61ADV      27.613984\n",
      "U9T81JGUS      82.854045\n",
      "Name: ts, Length: 1466, dtype: float64\n"
     ]
    }
   ],
   "source": [
    "# What's the average number of posts per user in a week/month?\n",
    "# to answer the second question, we need to first measure the age of a user's account. Then divide the total\n",
    "# number of posts by that user by its age (in weeks or months as unit). \n",
    "\n",
    "# calculate the total posts for each user\n",
    "users_total_posts = df.groupby(['user'])['ts'].count()\n",
    "# calculate the start date of each user\n",
    "users_start = df.groupby(['user'])['ts'].min()\n",
    "# pull the last timestamp, this is the \"present\"\n",
    "user_end = df['ts'].max()\n",
    "# calculate each user's age in weeks\n",
    "users_age_weeks = (user_end - users_start)/ np.timedelta64(1, 'W')\n",
    "# calculate each user's age in months\n",
    "users_age_months = (user_end - users_start)/ np.timedelta64(1, 'M')\n",
    "\n",
    "# calculate and print the average posts per week for all users\n",
    "print('the average posts per week for each {}'.format(users_total_posts/users_age_weeks))\n",
    "# calculate and print the average posts per month for all users\n",
    "print('\\nthe average posts per month for each {}'.format(users_total_posts/users_age_months))"
   ]
  },
  {
   "cell_type": "code",
   "execution_count": 11,
   "metadata": {},
   "outputs": [
    {
     "name": "stdout",
     "output_type": "stream",
     "text": [
      "user U7MJ2FM5J had the most weekly posts with 1315 posts\n"
     ]
    }
   ],
   "source": [
    "## Question 3: What user had the most posts total in a week?\n",
    "\n",
    "# we will calculate which user had the most weekly posts\n",
    "users_weekly_posts_maxidx = df.groupby(['user','week_number'])['ts'].count().idxmax()\n",
    "users_weekly_posts_max = df.groupby(['user','week_number'])['ts'].count().max()\n",
    "print('user {} had the most weekly posts with {} posts'.format(users_weekly_posts_maxidx[0], users_weekly_posts_max))"
   ]
  },
  {
   "cell_type": "code",
   "execution_count": 12,
   "metadata": {},
   "outputs": [
    {
     "name": "stdout",
     "output_type": "stream",
     "text": [
      "user U7MJ2FM5J had the most monthly posts with 4415 posts\n"
     ]
    }
   ],
   "source": [
    "## Question 4: What user had the most posts total in a month?\n",
    "\n",
    "# we will calculate which user had the most monthly posts\n",
    "users_monthly_posts_maxidx = df.groupby(['user','month'])['ts'].count().idxmax()\n",
    "users_monthly_posts_max = df.groupby(['user','month'])['ts'].count().max()\n",
    "print('user {} had the most monthly posts with {} posts'.format(users_monthly_posts_maxidx[0], users_monthly_posts_max))"
   ]
  },
  {
   "cell_type": "code",
   "execution_count": 13,
   "metadata": {},
   "outputs": [
    {
     "name": "stdout",
     "output_type": "stream",
     "text": [
      "user U7MJ2FM5J had the most posts in Feb-2018 with 30 posts\n"
     ]
    }
   ],
   "source": [
    "## Question 5: Which user had the highest number of posts the most recent full month in the 'general-discussion' \n",
    "# channel (and how many was it)?\n",
    "\n",
    "# we queried earlier that the last timestamp is on 3/21/2018. That means we want to investigate the month of \n",
    "# February for this problem\n",
    "gen_disc_max_user = df[(df['channel']=='general-discussion') & (df['month']=='2018-m02')].groupby(['user'])['ts'].count().idxmax()\n",
    "gen_disc_max_posts = df[(df['channel']=='general-discussion') & (df['month']=='2018-m02')].groupby(['user'])['ts'].count().max()\n",
    "print('user {} had the most posts in Feb-2018 with {} posts'.format(gen_disc_max_user, gen_disc_max_posts))"
   ]
  },
  {
   "cell_type": "code",
   "execution_count": null,
   "metadata": {},
   "outputs": [],
   "source": []
  }
 ],
 "metadata": {
  "kernelspec": {
   "display_name": "Python 3",
   "language": "python",
   "name": "python3"
  },
  "language_info": {
   "codemirror_mode": {
    "name": "ipython",
    "version": 3
   },
   "file_extension": ".py",
   "mimetype": "text/x-python",
   "name": "python",
   "nbconvert_exporter": "python",
   "pygments_lexer": "ipython3",
   "version": "3.6.4"
  }
 },
 "nbformat": 4,
 "nbformat_minor": 2
}
